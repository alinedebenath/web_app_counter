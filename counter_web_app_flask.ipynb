{
 "cells": [
  {
   "cell_type": "markdown",
   "metadata": {},
   "source": [
    "# <center>Counter web app flask code</center>"
   ]
  },
  {
   "cell_type": "code",
   "execution_count": null,
   "metadata": {},
   "outputs": [],
   "source": [
    "from flask import Flask, request\n",
    "app = Flask(__name__)\n",
    "\n",
    "@app.route(\"/\", methods=[\"GET\", \"POST\"])\n",
    "def index():\n",
    "    choice = ''\n",
    "    choice = int(request.form[\"choice\"])\n",
    "\n",
    "    if request.method == \"POST\":\n",
    "        with open( \"count.txt\", \"r\" ) as f:\n",
    "            count = f.read()\n",
    "            output = \"\"\"#Content-type: text/html\\r\\n\\r\\n\n",
    "            <html>\n",
    "            <center>\n",
    "            <p>The count is now : {count}</p>\n",
    "            </center>\n",
    "            </html>\n",
    "            \"\"\".format(count=count)\n",
    "\n",
    "            count = int(count)\n",
    "            with open( \"count.txt\", \"w\" ) as f:\n",
    "                f.write(str(count+choice) )\n",
    "            print(output)\n",
    "    else:\n",
    "        choice = input(\"Enter a number : \")\n",
    "        choice = int(choice)\n",
    "\n",
    "if __name__ == \"__main__\":\n",
    "    app.run(debug=True)"
   ]
  },
  {
   "cell_type": "markdown",
   "metadata": {},
   "source": [
    "Based on web app keyword extractor"
   ]
  }
 ],
 "metadata": {
  "kernelspec": {
   "display_name": "Python 3",
   "language": "python",
   "name": "python3"
  },
  "language_info": {
   "codemirror_mode": {
    "name": "ipython",
    "version": 3
   },
   "file_extension": ".py",
   "mimetype": "text/x-python",
   "name": "python",
   "nbconvert_exporter": "python",
   "pygments_lexer": "ipython3",
   "version": "3.7.6"
  }
 },
 "nbformat": 4,
 "nbformat_minor": 4
}
